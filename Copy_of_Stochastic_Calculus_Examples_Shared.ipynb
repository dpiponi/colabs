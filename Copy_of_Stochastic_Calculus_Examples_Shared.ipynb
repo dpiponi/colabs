{
  "nbformat": 4,
  "nbformat_minor": 0,
  "metadata": {
    "colab": {
      "provenance": [],
      "authorship_tag": "ABX9TyOam5WL3P8RP59UA0u08ukJ",
      "include_colab_link": true
    },
    "kernelspec": {
      "name": "python3",
      "display_name": "Python 3"
    },
    "language_info": {
      "name": "python"
    }
  },
  "cells": [
    {
      "cell_type": "markdown",
      "metadata": {
        "id": "view-in-github",
        "colab_type": "text"
      },
      "source": [
        "<a href=\"https://colab.research.google.com/github/dpiponi/colabs/blob/main/Copy_of_Stochastic_Calculus_Examples_Shared.ipynb\" target=\"_parent\"><img src=\"https://colab.research.google.com/assets/colab-badge.svg\" alt=\"Open In Colab\"/></a>"
      ]
    },
    {
      "cell_type": "code",
      "execution_count": null,
      "metadata": {
        "id": "fA0QwGA9HiKI"
      },
      "outputs": [],
      "source": [
        "import tensorflow as tf\n",
        "import tensorflow_probability as tfp\n",
        "tfd = tfp.distributions\n",
        "import matplotlib.pyplot as plt"
      ]
    },
    {
      "cell_type": "markdown",
      "source": [
        "For Ito integral we expect that in the first interval we use $f$ from the beginning of the interval, so we use `exclusive=True`. (For ordinary calculus this isn't an issue but for stochastic calculus it is.)"
      ],
      "metadata": {
        "id": "fpODUdJeW9C4"
      }
    },
    {
      "cell_type": "code",
      "source": [
        "def integrate(fdx):\n",
        "  return tf.cumsum(fdx, exclusive=True)"
      ],
      "metadata": {
        "id": "hotmO_vMAEN0"
      },
      "execution_count": null,
      "outputs": []
    },
    {
      "cell_type": "code",
      "source": [
        "n = 10000000\n",
        "dt = tf.constant(1. / n, tf.float64)"
      ],
      "metadata": {
        "id": "GY_5EH7KH9jp"
      },
      "execution_count": null,
      "outputs": []
    },
    {
      "cell_type": "markdown",
      "source": [
        "$B_t$ is Brownian motion"
      ],
      "metadata": {
        "id": "6Fbbv2oRfPkE"
      }
    },
    {
      "cell_type": "code",
      "source": [
        "db = tfd.Normal(loc=tf.constant(0., tf.float64), scale=tf.sqrt(dt)).sample(n)\n",
        "b = integrate(db)\n",
        "ones = tf.ones(n, dtype=tf.float64)\n",
        "t = integrate(ones * dt)"
      ],
      "metadata": {
        "id": "6ZrHNL-vIAgv"
      },
      "execution_count": null,
      "outputs": []
    },
    {
      "cell_type": "markdown",
      "source": [
        "Examples from reference [1]:\n",
        "\n",
        "$\\int_0^tsdB_s=tB_t-\\int_0^tB_sds$"
      ],
      "metadata": {
        "id": "6mQPPtnGb8ZL"
      }
    },
    {
      "cell_type": "code",
      "source": [
        "(\n",
        "    integrate(t * db)[-1],\n",
        "    (t * b - integrate(b * dt))[-1]\n",
        ")"
      ],
      "metadata": {
        "colab": {
          "base_uri": "https://localhost:8080/"
        },
        "id": "wsOr6WTaCNek",
        "outputId": "f1d4343b-922d-4f41-9346-c40b53f785d2"
      },
      "execution_count": null,
      "outputs": [
        {
          "output_type": "execute_result",
          "data": {
            "text/plain": [
              "(<tf.Tensor: shape=(), dtype=float64, numpy=0.03922161767586746>,\n",
              " <tf.Tensor: shape=(), dtype=float64, numpy=0.039221574881689425>)"
            ]
          },
          "metadata": {},
          "execution_count": 5
        }
      ]
    },
    {
      "cell_type": "markdown",
      "source": [
        "$\\int_0^tB_s^2dB_s=\\frac{1}{3}B_t^3-\\int_0^tB_sds$"
      ],
      "metadata": {
        "id": "PRZkqcqvbqFT"
      }
    },
    {
      "cell_type": "code",
      "source": [
        "(\n",
        "    integrate(b * b * db)[-1],\n",
        "    b[-1] ** 3 / 3. - integrate(b * dt)[-1]\n",
        ")"
      ],
      "metadata": {
        "colab": {
          "base_uri": "https://localhost:8080/"
        },
        "id": "NNOvaRHQJAJc",
        "outputId": "c4b73319-c8bd-45e5-acec-baa645320c63"
      },
      "execution_count": null,
      "outputs": [
        {
          "output_type": "execute_result",
          "data": {
            "text/plain": [
              "(<tf.Tensor: shape=(), dtype=float64, numpy=0.44248526053394727>,\n",
              " <tf.Tensor: shape=(), dtype=float64, numpy=0.44246067095274877>)"
            ]
          },
          "metadata": {},
          "execution_count": 6
        }
      ]
    },
    {
      "cell_type": "markdown",
      "source": [
        "Iterated Ito integral:\n",
        "\n",
        "$n!\\int\\cdots(\\mkern-30mu\\int\\limits_{\n",
        "0\\le u_1\\le\\cdots\\le u_n\\le t\n",
        "}\\mkern-22mu(\\int dB_{u_1})dB_{u_2})\\cdots dB_{u_n}=t^\\frac{n}{2}h_n(\\frac{B_t}{\\sqrt{t}})$\n",
        "\n",
        "$h_n$ is the $n$th (probabilist's) Hermite polynomial."
      ],
      "metadata": {
        "id": "qEVQ6Ghni8PO"
      }
    },
    {
      "cell_type": "code",
      "source": [
        "(\n",
        "    6 * integrate(integrate(integrate(db) * db) * db)[-1],\n",
        "    b[-1]**3 - 3. * b[-1]\n",
        ")"
      ],
      "metadata": {
        "colab": {
          "base_uri": "https://localhost:8080/"
        },
        "id": "4MBPPJgBp7sc",
        "outputId": "37d391d9-739f-4be9-ca8a-22e97cd6dcbf"
      },
      "execution_count": null,
      "outputs": [
        {
          "output_type": "execute_result",
          "data": {
            "text/plain": [
              "(<tf.Tensor: shape=(), dtype=float64, numpy=1.2096682072509348>,\n",
              " <tf.Tensor: shape=(), dtype=float64, numpy=1.209717417440085>)"
            ]
          },
          "metadata": {},
          "execution_count": 7
        }
      ]
    },
    {
      "cell_type": "markdown",
      "source": [
        "We're going to solve\n",
        "\n",
        "$dx(t) = f(x(t))dt + g(x(t))dB(t)$\n",
        "\n",
        "using a simple forward Euler method and with $f(x) = x/4$ and $g(x)=x$.\n",
        "\n",
        "Solving SDEs is serial in nature and we need an explicit loop - sped up with `@tf.function`."
      ],
      "metadata": {
        "id": "AGsyjL-ImgJJ"
      }
    },
    {
      "cell_type": "code",
      "source": [
        "n = 1000000\n",
        "dt = tf.constant(1. / n, tf.float64)\n",
        "db = tfd.Normal(loc=0, scale=tf.sqrt(dt)).sample(n)\n",
        "\n",
        "def f(x):\n",
        "  return tf.constant(0.25, tf.float64) * x\n",
        "\n",
        "def g(x):\n",
        "  return tf.constant(1., tf.float64) * x\n",
        "\n",
        "def body(i, x, u):\n",
        "  dx = f(x) * dt + g(x) * db[i]\n",
        "  return (i + 1, x + dx, u.write(i, dx))\n",
        "\n",
        "x0 = 1.0\n",
        "\n",
        "@tf.function\n",
        "def test():\n",
        "  u = tf.TensorArray(tf.float64, size=n)\n",
        "  x = tf.constant(x0, tf.float64)\n",
        "  i = tf.constant(0)\n",
        "  c = lambda i, x, u: tf.less(i, n)\n",
        "  r = tf.while_loop(c, body, [i, x, u])\n",
        "  return r[2].stack()"
      ],
      "metadata": {
        "id": "6cv4A_PspBp9"
      },
      "execution_count": null,
      "outputs": []
    },
    {
      "cell_type": "code",
      "source": [
        "dx = test()\n",
        "x = x0 + integrate(dx)\n",
        "plt.plot(x)"
      ],
      "metadata": {
        "id": "S_ECpF4IjqUM",
        "colab": {
          "base_uri": "https://localhost:8080/",
          "height": 296
        },
        "outputId": "bb1a2fea-8b98-46db-cd43-3dcc41fd5925"
      },
      "execution_count": null,
      "outputs": [
        {
          "output_type": "execute_result",
          "data": {
            "text/plain": [
              "[<matplotlib.lines.Line2D at 0x7f6a45d3bc40>]"
            ]
          },
          "metadata": {},
          "execution_count": 9
        },
        {
          "output_type": "display_data",
          "data": {
            "text/plain": [
              "<Figure size 432x288 with 1 Axes>"
            ],
            "image/png": "[encoded data removed]"
          },
          "metadata": {
            "needs_background": "light"
          }
        }
      ]
    },
    {
      "cell_type": "markdown",
      "source": [
        "Let's test Ito's Formula\n",
        "\n",
        "$dh(x(t)) = h'(x)dx + \\frac{1}{2}h''(x)dx^2 = h'(x)dx + h''(x)g(x)^2dB^2$"
      ],
      "metadata": {
        "id": "6d468ecX9uKA"
      }
    },
    {
      "cell_type": "code",
      "source": [
        "def h(x):\n",
        "  return tf.exp(-x)\n",
        "def h1(x):\n",
        "  return -tf.exp(-x)\n",
        "def h2(x):\n",
        "  return tf.exp(-x)"
      ],
      "metadata": {
        "id": "IYaFL_px1qny"
      },
      "execution_count": null,
      "outputs": []
    },
    {
      "cell_type": "code",
      "source": [
        "h(x[-1]) - h(x[0])"
      ],
      "metadata": {
        "id": "_RjhYuYetPLC",
        "colab": {
          "base_uri": "https://localhost:8080/"
        },
        "outputId": "4eb00532-992a-4e6e-ef8f-e2fb9c681d15"
      },
      "execution_count": null,
      "outputs": [
        {
          "output_type": "execute_result",
          "data": {
            "text/plain": [
              "<tf.Tensor: shape=(), dtype=float64, numpy=-0.09934913051828931>"
            ]
          },
          "metadata": {},
          "execution_count": 11
        }
      ]
    },
    {
      "cell_type": "code",
      "source": [
        "integrate(h1(x) * dx)[-1] + 0.5 * integrate(h2(x) * dx**2)[-1]"
      ],
      "metadata": {
        "id": "RNiOoALitPob",
        "colab": {
          "base_uri": "https://localhost:8080/"
        },
        "outputId": "7937752e-92e1-497c-c2d0-7ab773f09c73"
      },
      "execution_count": null,
      "outputs": [
        {
          "output_type": "execute_result",
          "data": {
            "text/plain": [
              "<tf.Tensor: shape=(), dtype=float64, numpy=-0.0993491052206735>"
            ]
          },
          "metadata": {},
          "execution_count": 12
        }
      ]
    },
    {
      "cell_type": "code",
      "source": [
        "integrate(h1(x) * dx)[-1] + 0.5 * integrate(h2(x) * g(x)**2 * db**2)[-1]"
      ],
      "metadata": {
        "colab": {
          "base_uri": "https://localhost:8080/"
        },
        "id": "OxRBqamz2C6f",
        "outputId": "248edc13-4376-4388-894b-2f551ffacef0"
      },
      "execution_count": null,
      "outputs": [
        {
          "output_type": "execute_result",
          "data": {
            "text/plain": [
              "<tf.Tensor: shape=(), dtype=float64, numpy=-0.09934913862956321>"
            ]
          },
          "metadata": {},
          "execution_count": 13
        }
      ]
    },
    {
      "cell_type": "markdown",
      "source": [
        "Some results from [2]:\n",
        "\n",
        "$dx^2=g(x)^2dt$\n",
        "\n",
        "(Equality in the sense of being almost surely true after being integrated.)"
      ],
      "metadata": {
        "id": "sy-VfILYRTrS"
      }
    },
    {
      "cell_type": "code",
      "source": [
        "integrate(dx * dx)[-1], integrate(g(x)**2 * dt)[-1]"
      ],
      "metadata": {
        "colab": {
          "base_uri": "https://localhost:8080/"
        },
        "id": "ebX0WT7jFMGi",
        "outputId": "26995187-75be-462e-cca9-41327c0b04d9"
      },
      "execution_count": null,
      "outputs": [
        {
          "output_type": "execute_result",
          "data": {
            "text/plain": [
              "(<tf.Tensor: shape=(), dtype=float64, numpy=1.7145921438205147>,\n",
              " <tf.Tensor: shape=(), dtype=float64, numpy=1.70861697716962>)"
            ]
          },
          "metadata": {},
          "execution_count": 14
        }
      ]
    },
    {
      "cell_type": "markdown",
      "source": [
        "$\\frac{(dx)^4}{dt}=3g(x)^4dt$"
      ],
      "metadata": {
        "id": "VLfg4jD1RYi_"
      }
    },
    {
      "cell_type": "code",
      "source": [
        "integrate(dx**4 / dt)[-1], 3. * integrate(g(x)**4 * dt)[-1]"
      ],
      "metadata": {
        "colab": {
          "base_uri": "https://localhost:8080/"
        },
        "id": "0Pq7SqrbFQVm",
        "outputId": "683952d1-3af7-493e-cb8a-3a5053a5b4e7"
      },
      "execution_count": null,
      "outputs": [
        {
          "output_type": "execute_result",
          "data": {
            "text/plain": [
              "(<tf.Tensor: shape=(), dtype=float64, numpy=11.153778844453852>,\n",
              " <tf.Tensor: shape=(), dtype=float64, numpy=11.081693337575587>)"
            ]
          },
          "metadata": {},
          "execution_count": 15
        }
      ]
    },
    {
      "cell_type": "markdown",
      "source": [
        "$\\frac{(dx)^6}{dt^2}=15g(x)^6dt$\n",
        "\n",
        "(I'd expect the high powers to mean this won't be as accurate unless we make dt smaller.)"
      ],
      "metadata": {
        "id": "AC7fnwAkRlts"
      }
    },
    {
      "cell_type": "code",
      "source": [
        "integrate(dx**6 / dt**2)[-1], 15. * integrate(g(x)**6 * dt)[-1]"
      ],
      "metadata": {
        "colab": {
          "base_uri": "https://localhost:8080/"
        },
        "id": "zlpvgPIcFXnv",
        "outputId": "83c84f95-4b21-4d3c-8f8f-1ecf13f47db9"
      },
      "execution_count": null,
      "outputs": [
        {
          "output_type": "execute_result",
          "data": {
            "text/plain": [
              "(<tf.Tensor: shape=(), dtype=float64, numpy=138.85468811523484>,\n",
              " <tf.Tensor: shape=(), dtype=float64, numpy=137.33432179590136>)"
            ]
          },
          "metadata": {},
          "execution_count": 16
        }
      ]
    },
    {
      "cell_type": "markdown",
      "source": [
        "This doesn't work well. So I'm misunderstanding something or I should check the derivation to see how well it holds for finite size dt. That's useful information! (I probably ought to read the paper properly.)\n",
        "\n",
        "$\\frac{(dx)^3}{dt}=3g(x)^2dx$"
      ],
      "metadata": {
        "id": "t2IG-9jcRr27"
      }
    },
    {
      "cell_type": "code",
      "source": [
        "integrate(dx ** 3 / dt)[-1], 3. * integrate(g(x)**2 * dx)[-1]"
      ],
      "metadata": {
        "colab": {
          "base_uri": "https://localhost:8080/"
        },
        "id": "i3BiBO02GqOr",
        "outputId": "4d55872f-6409-4c7e-fae9-8cfd493e7d8d"
      },
      "execution_count": null,
      "outputs": [
        {
          "output_type": "execute_result",
          "data": {
            "text/plain": [
              "(<tf.Tensor: shape=(), dtype=float64, numpy=-1.3995071227653748>,\n",
              " <tf.Tensor: shape=(), dtype=float64, numpy=-6.128088735150699>)"
            ]
          },
          "metadata": {},
          "execution_count": 17
        }
      ]
    },
    {
      "cell_type": "markdown",
      "source": [
        "# References\n",
        "\n",
        "1. Stochastic Differential Equations: An Introduction with Applications, Bernt Oksendal\n",
        "2. [Rules of calculus in the path integral representation of white noise Langevin equations: the Onsager–Machlup approach](https://arxiv.org/abs/1704.03501)"
      ],
      "metadata": {
        "id": "rSwsxVFNQlG1"
      }
    }
  ]
}